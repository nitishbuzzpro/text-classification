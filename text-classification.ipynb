{
 "cells": [
  {
   "cell_type": "markdown",
   "metadata": {},
   "source": [
    "## OBJECTIVE"
   ]
  },
  {
   "cell_type": "markdown",
   "metadata": {},
   "source": [
    "Text Classification: \n",
    "\n",
    "Build a text classification model to classify an email as spam or not without using llms or any transformer based model but use a machine learning classification algorithm after vectorising the text data. Submit your code along with a document explaining what approach you took and why? Attached is spam.csv file containing data for this"
   ]
  },
  {
   "cell_type": "code",
   "execution_count": 1,
   "metadata": {
    "_cell_guid": "b1076dfc-b9ad-4769-8c92-a6c4dae69d19",
    "_uuid": "8f2839f25d086af736a60e9eeb907d3b93b6e0e5",
    "execution": {
     "iopub.execute_input": "2024-08-06T18:23:28.371013Z",
     "iopub.status.busy": "2024-08-06T18:23:28.370541Z",
     "iopub.status.idle": "2024-08-06T18:23:30.499189Z",
     "shell.execute_reply": "2024-08-06T18:23:30.498139Z",
     "shell.execute_reply.started": "2024-08-06T18:23:28.370970Z"
    }
   },
   "outputs": [],
   "source": [
    "# Importing required libraries\n",
    "import pandas as pd\n",
    "from sklearn.preprocessing import LabelEncoder\n",
    "import seaborn as sns\n",
    "from nltk.corpus import stopwords\n",
    "import string\n",
    "from sklearn.model_selection import train_test_split\n",
    "from sklearn.feature_extraction.text import TfidfVectorizer\n",
    "from imblearn.over_sampling import SMOTE\n",
    "\n",
    "from sklearn.linear_model import LogisticRegression\n",
    "from sklearn.naive_bayes import MultinomialNB\n",
    "from sklearn.naive_bayes import BernoulliNB\n",
    "from sklearn.svm import SVC\n",
    "from sklearn.neighbors import KNeighborsClassifier\n",
    "from sklearn.tree import DecisionTreeClassifier\n",
    "\n",
    "import joblib\n",
    "\n",
    "from sklearn.metrics import classification_report"
   ]
  },
  {
   "cell_type": "markdown",
   "metadata": {},
   "source": [
    "## Data Explorartion"
   ]
  },
  {
   "cell_type": "code",
   "execution_count": 2,
   "metadata": {
    "execution": {
     "iopub.execute_input": "2024-08-06T18:23:30.502421Z",
     "iopub.status.busy": "2024-08-06T18:23:30.501263Z",
     "iopub.status.idle": "2024-08-06T18:23:30.573441Z",
     "shell.execute_reply": "2024-08-06T18:23:30.572316Z",
     "shell.execute_reply.started": "2024-08-06T18:23:30.502376Z"
    }
   },
   "outputs": [
    {
     "data": {
      "text/html": [
       "<div>\n",
       "<style scoped>\n",
       "    .dataframe tbody tr th:only-of-type {\n",
       "        vertical-align: middle;\n",
       "    }\n",
       "\n",
       "    .dataframe tbody tr th {\n",
       "        vertical-align: top;\n",
       "    }\n",
       "\n",
       "    .dataframe thead th {\n",
       "        text-align: right;\n",
       "    }\n",
       "</style>\n",
       "<table border=\"1\" class=\"dataframe\">\n",
       "  <thead>\n",
       "    <tr style=\"text-align: right;\">\n",
       "      <th></th>\n",
       "      <th>label</th>\n",
       "      <th>text</th>\n",
       "    </tr>\n",
       "  </thead>\n",
       "  <tbody>\n",
       "    <tr>\n",
       "      <th>0</th>\n",
       "      <td>ham</td>\n",
       "      <td>Go until jurong point, crazy.. Available only ...</td>\n",
       "    </tr>\n",
       "    <tr>\n",
       "      <th>1</th>\n",
       "      <td>ham</td>\n",
       "      <td>Ok lar... Joking wif u oni...</td>\n",
       "    </tr>\n",
       "    <tr>\n",
       "      <th>2</th>\n",
       "      <td>spam</td>\n",
       "      <td>Free entry in 2 a wkly comp to win FA Cup fina...</td>\n",
       "    </tr>\n",
       "    <tr>\n",
       "      <th>3</th>\n",
       "      <td>ham</td>\n",
       "      <td>U dun say so early hor... U c already then say...</td>\n",
       "    </tr>\n",
       "    <tr>\n",
       "      <th>4</th>\n",
       "      <td>ham</td>\n",
       "      <td>Nah I don't think he goes to usf, he lives aro...</td>\n",
       "    </tr>\n",
       "    <tr>\n",
       "      <th>...</th>\n",
       "      <td>...</td>\n",
       "      <td>...</td>\n",
       "    </tr>\n",
       "    <tr>\n",
       "      <th>5567</th>\n",
       "      <td>spam</td>\n",
       "      <td>This is the 2nd time we have tried 2 contact u...</td>\n",
       "    </tr>\n",
       "    <tr>\n",
       "      <th>5568</th>\n",
       "      <td>ham</td>\n",
       "      <td>Will Ì_ b going to esplanade fr home?</td>\n",
       "    </tr>\n",
       "    <tr>\n",
       "      <th>5569</th>\n",
       "      <td>ham</td>\n",
       "      <td>Pity, * was in mood for that. So...any other s...</td>\n",
       "    </tr>\n",
       "    <tr>\n",
       "      <th>5570</th>\n",
       "      <td>ham</td>\n",
       "      <td>The guy did some bitching but I acted like i'd...</td>\n",
       "    </tr>\n",
       "    <tr>\n",
       "      <th>5571</th>\n",
       "      <td>ham</td>\n",
       "      <td>Rofl. Its true to its name</td>\n",
       "    </tr>\n",
       "  </tbody>\n",
       "</table>\n",
       "<p>5572 rows × 2 columns</p>\n",
       "</div>"
      ],
      "text/plain": [
       "     label                                               text\n",
       "0      ham  Go until jurong point, crazy.. Available only ...\n",
       "1      ham                      Ok lar... Joking wif u oni...\n",
       "2     spam  Free entry in 2 a wkly comp to win FA Cup fina...\n",
       "3      ham  U dun say so early hor... U c already then say...\n",
       "4      ham  Nah I don't think he goes to usf, he lives aro...\n",
       "...    ...                                                ...\n",
       "5567  spam  This is the 2nd time we have tried 2 contact u...\n",
       "5568   ham              Will Ì_ b going to esplanade fr home?\n",
       "5569   ham  Pity, * was in mood for that. So...any other s...\n",
       "5570   ham  The guy did some bitching but I acted like i'd...\n",
       "5571   ham                         Rofl. Its true to its name\n",
       "\n",
       "[5572 rows x 2 columns]"
      ]
     },
     "execution_count": 2,
     "metadata": {},
     "output_type": "execute_result"
    }
   ],
   "source": [
    "#Loading the dataset\n",
    "df = pd.read_csv('/kaggle/input/spam-csv/spam.csv')\n",
    "df"
   ]
  },
  {
   "cell_type": "code",
   "execution_count": 3,
   "metadata": {
    "execution": {
     "iopub.execute_input": "2024-08-06T18:23:30.574965Z",
     "iopub.status.busy": "2024-08-06T18:23:30.574638Z",
     "iopub.status.idle": "2024-08-06T18:23:30.597474Z",
     "shell.execute_reply": "2024-08-06T18:23:30.596319Z",
     "shell.execute_reply.started": "2024-08-06T18:23:30.574938Z"
    }
   },
   "outputs": [
    {
     "name": "stdout",
     "output_type": "stream",
     "text": [
      "<class 'pandas.core.frame.DataFrame'>\n",
      "RangeIndex: 5572 entries, 0 to 5571\n",
      "Data columns (total 2 columns):\n",
      " #   Column  Non-Null Count  Dtype \n",
      "---  ------  --------------  ----- \n",
      " 0   label   5572 non-null   object\n",
      " 1   text    5572 non-null   object\n",
      "dtypes: object(2)\n",
      "memory usage: 87.2+ KB\n"
     ]
    }
   ],
   "source": [
    "df.info()"
   ]
  },
  {
   "cell_type": "code",
   "execution_count": 4,
   "metadata": {
    "execution": {
     "iopub.execute_input": "2024-08-06T18:23:30.600970Z",
     "iopub.status.busy": "2024-08-06T18:23:30.600499Z",
     "iopub.status.idle": "2024-08-06T18:23:30.620754Z",
     "shell.execute_reply": "2024-08-06T18:23:30.619535Z",
     "shell.execute_reply.started": "2024-08-06T18:23:30.600929Z"
    }
   },
   "outputs": [
    {
     "data": {
      "text/html": [
       "<div>\n",
       "<style scoped>\n",
       "    .dataframe tbody tr th:only-of-type {\n",
       "        vertical-align: middle;\n",
       "    }\n",
       "\n",
       "    .dataframe tbody tr th {\n",
       "        vertical-align: top;\n",
       "    }\n",
       "\n",
       "    .dataframe thead th {\n",
       "        text-align: right;\n",
       "    }\n",
       "</style>\n",
       "<table border=\"1\" class=\"dataframe\">\n",
       "  <thead>\n",
       "    <tr style=\"text-align: right;\">\n",
       "      <th></th>\n",
       "      <th>label</th>\n",
       "      <th>text</th>\n",
       "    </tr>\n",
       "  </thead>\n",
       "  <tbody>\n",
       "    <tr>\n",
       "      <th>count</th>\n",
       "      <td>5572</td>\n",
       "      <td>5572</td>\n",
       "    </tr>\n",
       "    <tr>\n",
       "      <th>unique</th>\n",
       "      <td>2</td>\n",
       "      <td>5158</td>\n",
       "    </tr>\n",
       "    <tr>\n",
       "      <th>top</th>\n",
       "      <td>ham</td>\n",
       "      <td>Sorry, I'll call later</td>\n",
       "    </tr>\n",
       "    <tr>\n",
       "      <th>freq</th>\n",
       "      <td>4825</td>\n",
       "      <td>30</td>\n",
       "    </tr>\n",
       "  </tbody>\n",
       "</table>\n",
       "</div>"
      ],
      "text/plain": [
       "       label                    text\n",
       "count   5572                    5572\n",
       "unique     2                    5158\n",
       "top      ham  Sorry, I'll call later\n",
       "freq    4825                      30"
      ]
     },
     "execution_count": 4,
     "metadata": {},
     "output_type": "execute_result"
    }
   ],
   "source": [
    "df.describe(include='object')"
   ]
  },
  {
   "cell_type": "markdown",
   "metadata": {
    "execution": {
     "iopub.execute_input": "2024-08-05T15:57:52.685143Z",
     "iopub.status.busy": "2024-08-05T15:57:52.684747Z",
     "iopub.status.idle": "2024-08-05T15:57:52.689222Z",
     "shell.execute_reply": "2024-08-05T15:57:52.688175Z",
     "shell.execute_reply.started": "2024-08-05T15:57:52.685112Z"
    }
   },
   "source": [
    "## Data Visualization"
   ]
  },
  {
   "cell_type": "code",
   "execution_count": 5,
   "metadata": {
    "execution": {
     "iopub.execute_input": "2024-08-06T18:23:30.622440Z",
     "iopub.status.busy": "2024-08-06T18:23:30.622004Z",
     "iopub.status.idle": "2024-08-06T18:23:30.852330Z",
     "shell.execute_reply": "2024-08-06T18:23:30.851205Z",
     "shell.execute_reply.started": "2024-08-06T18:23:30.622412Z"
    }
   },
   "outputs": [
    {
     "name": "stdout",
     "output_type": "stream",
     "text": [
      "label\n",
      "ham     4825\n",
      "spam     747\n",
      "Name: count, dtype: int64\n"
     ]
    },
    {
     "data": {
      "image/png": "[encoded data removed]",
      "text/plain": [
       "<Figure size 640x480 with 1 Axes>"
      ]
     },
     "metadata": {},
     "output_type": "display_data"
    }
   ],
   "source": [
    "#Visualzing the class labels\n",
    "sns.countplot(df,x='label')\n",
    "print(df['label'].value_counts())"
   ]
  },
  {
   "cell_type": "markdown",
   "metadata": {
    "execution": {
     "iopub.execute_input": "2024-08-05T16:00:22.655700Z",
     "iopub.status.busy": "2024-08-05T16:00:22.655287Z",
     "iopub.status.idle": "2024-08-05T16:00:22.660476Z",
     "shell.execute_reply": "2024-08-05T16:00:22.659340Z",
     "shell.execute_reply.started": "2024-08-05T16:00:22.655668Z"
    }
   },
   "source": [
    "## Data Cleaning"
   ]
  },
  {
   "cell_type": "code",
   "execution_count": 6,
   "metadata": {
    "execution": {
     "iopub.execute_input": "2024-08-06T18:23:30.854261Z",
     "iopub.status.busy": "2024-08-06T18:23:30.853820Z",
     "iopub.status.idle": "2024-08-06T18:23:41.959772Z",
     "shell.execute_reply": "2024-08-06T18:23:41.958488Z",
     "shell.execute_reply.started": "2024-08-06T18:23:30.854171Z"
    }
   },
   "outputs": [
    {
     "data": {
      "text/plain": [
       "0       Go jurong point crazy Available bugis n great ...\n",
       "1                                 Ok lar Joking wif u oni\n",
       "2       Free entry 2 wkly comp win FA Cup final tkts 2...\n",
       "3                     U dun say early hor U c already say\n",
       "4             Nah dont think goes usf lives around though\n",
       "                              ...                        \n",
       "5567    2nd time tried 2 contact u U å£750 Pound prize...\n",
       "5568                          Ì b going esplanade fr home\n",
       "5569                          Pity mood Soany suggestions\n",
       "5570    guy bitching acted like id interested buying s...\n",
       "5571                                       Rofl true name\n",
       "Name: text, Length: 5572, dtype: object"
      ]
     },
     "execution_count": 6,
     "metadata": {},
     "output_type": "execute_result"
    }
   ],
   "source": [
    "def clean_text(mail):\n",
    "    #Remove the punctuation\n",
    "    without_punctuation = ''.join(char for char in mail if char not in string.punctuation)\n",
    "    #Remove the stopwords\n",
    "    result = ' '.join(word for word in  without_punctuation.split() if word.lower() not in set(stopwords.words('english')))\n",
    "    \n",
    "    return result\n",
    "\n",
    "df['text'] = df['text'].apply(clean_text)\n",
    "df['text']"
   ]
  },
  {
   "cell_type": "markdown",
   "metadata": {},
   "source": [
    "## Feature Encoding"
   ]
  },
  {
   "cell_type": "code",
   "execution_count": 7,
   "metadata": {
    "execution": {
     "iopub.execute_input": "2024-08-06T18:23:41.961476Z",
     "iopub.status.busy": "2024-08-06T18:23:41.961084Z",
     "iopub.status.idle": "2024-08-06T18:23:41.978511Z",
     "shell.execute_reply": "2024-08-06T18:23:41.977337Z",
     "shell.execute_reply.started": "2024-08-06T18:23:41.961446Z"
    }
   },
   "outputs": [
    {
     "name": "stdout",
     "output_type": "stream",
     "text": [
      "[(0, 'ham'), (1, 'spam')]\n"
     ]
    },
    {
     "data": {
      "text/html": [
       "<div>\n",
       "<style scoped>\n",
       "    .dataframe tbody tr th:only-of-type {\n",
       "        vertical-align: middle;\n",
       "    }\n",
       "\n",
       "    .dataframe tbody tr th {\n",
       "        vertical-align: top;\n",
       "    }\n",
       "\n",
       "    .dataframe thead th {\n",
       "        text-align: right;\n",
       "    }\n",
       "</style>\n",
       "<table border=\"1\" class=\"dataframe\">\n",
       "  <thead>\n",
       "    <tr style=\"text-align: right;\">\n",
       "      <th></th>\n",
       "      <th>label</th>\n",
       "      <th>text</th>\n",
       "    </tr>\n",
       "  </thead>\n",
       "  <tbody>\n",
       "    <tr>\n",
       "      <th>0</th>\n",
       "      <td>0</td>\n",
       "      <td>Go jurong point crazy Available bugis n great ...</td>\n",
       "    </tr>\n",
       "    <tr>\n",
       "      <th>1</th>\n",
       "      <td>0</td>\n",
       "      <td>Ok lar Joking wif u oni</td>\n",
       "    </tr>\n",
       "    <tr>\n",
       "      <th>2</th>\n",
       "      <td>1</td>\n",
       "      <td>Free entry 2 wkly comp win FA Cup final tkts 2...</td>\n",
       "    </tr>\n",
       "    <tr>\n",
       "      <th>3</th>\n",
       "      <td>0</td>\n",
       "      <td>U dun say early hor U c already say</td>\n",
       "    </tr>\n",
       "    <tr>\n",
       "      <th>4</th>\n",
       "      <td>0</td>\n",
       "      <td>Nah dont think goes usf lives around though</td>\n",
       "    </tr>\n",
       "    <tr>\n",
       "      <th>...</th>\n",
       "      <td>...</td>\n",
       "      <td>...</td>\n",
       "    </tr>\n",
       "    <tr>\n",
       "      <th>5567</th>\n",
       "      <td>1</td>\n",
       "      <td>2nd time tried 2 contact u U å£750 Pound prize...</td>\n",
       "    </tr>\n",
       "    <tr>\n",
       "      <th>5568</th>\n",
       "      <td>0</td>\n",
       "      <td>Ì b going esplanade fr home</td>\n",
       "    </tr>\n",
       "    <tr>\n",
       "      <th>5569</th>\n",
       "      <td>0</td>\n",
       "      <td>Pity mood Soany suggestions</td>\n",
       "    </tr>\n",
       "    <tr>\n",
       "      <th>5570</th>\n",
       "      <td>0</td>\n",
       "      <td>guy bitching acted like id interested buying s...</td>\n",
       "    </tr>\n",
       "    <tr>\n",
       "      <th>5571</th>\n",
       "      <td>0</td>\n",
       "      <td>Rofl true name</td>\n",
       "    </tr>\n",
       "  </tbody>\n",
       "</table>\n",
       "<p>5572 rows × 2 columns</p>\n",
       "</div>"
      ],
      "text/plain": [
       "      label                                               text\n",
       "0         0  Go jurong point crazy Available bugis n great ...\n",
       "1         0                            Ok lar Joking wif u oni\n",
       "2         1  Free entry 2 wkly comp win FA Cup final tkts 2...\n",
       "3         0                U dun say early hor U c already say\n",
       "4         0        Nah dont think goes usf lives around though\n",
       "...     ...                                                ...\n",
       "5567      1  2nd time tried 2 contact u U å£750 Pound prize...\n",
       "5568      0                        Ì b going esplanade fr home\n",
       "5569      0                        Pity mood Soany suggestions\n",
       "5570      0  guy bitching acted like id interested buying s...\n",
       "5571      0                                     Rofl true name\n",
       "\n",
       "[5572 rows x 2 columns]"
      ]
     },
     "execution_count": 7,
     "metadata": {},
     "output_type": "execute_result"
    }
   ],
   "source": [
    "# Ecoding the label feature\n",
    "saved_encoder = {}\n",
    "label_encoder = LabelEncoder()\n",
    "label_encoder.fit(df['label'])\n",
    "saved_encoder[df['label'].name] = label_encoder\n",
    "df['label'] = label_encoder.transform(df['label'])\n",
    "\n",
    "print([(index, label) for index, label in enumerate(label_encoder.classes_)])\n",
    "df"
   ]
  },
  {
   "cell_type": "markdown",
   "metadata": {
    "execution": {
     "iopub.execute_input": "2024-08-05T16:25:49.813374Z",
     "iopub.status.busy": "2024-08-05T16:25:49.812907Z",
     "iopub.status.idle": "2024-08-05T16:25:49.818518Z",
     "shell.execute_reply": "2024-08-05T16:25:49.817316Z",
     "shell.execute_reply.started": "2024-08-05T16:25:49.813338Z"
    }
   },
   "source": [
    "## Spliting the Data, Vectorizing and Resampling"
   ]
  },
  {
   "cell_type": "code",
   "execution_count": 8,
   "metadata": {
    "execution": {
     "iopub.execute_input": "2024-08-06T18:23:41.980373Z",
     "iopub.status.busy": "2024-08-06T18:23:41.979948Z",
     "iopub.status.idle": "2024-08-06T18:23:42.195722Z",
     "shell.execute_reply": "2024-08-06T18:23:42.194481Z",
     "shell.execute_reply.started": "2024-08-06T18:23:41.980339Z"
    }
   },
   "outputs": [],
   "source": [
    "X = df['text']\n",
    "y = df['label']\n",
    "\n",
    "X_train, X_test, y_train, y_test = train_test_split(X, y, test_size=0.33, random_state=42)\n",
    "\n",
    "vectorizer = TfidfVectorizer()\n",
    "X_train = vectorizer.fit_transform(X_train)\n",
    "X_test = vectorizer.transform(X_test)\n",
    "\n",
    "#Since there is class imbalance between Spam vs Ham, resampling using SMOTE\n",
    "smote = SMOTE(random_state=42)\n",
    "X_train_resampled, y_train_resampled = smote.fit_resample(X_train, y_train)"
   ]
  },
  {
   "cell_type": "markdown",
   "metadata": {},
   "source": [
    "## Model Training, Saving and Evaluation"
   ]
  },
  {
   "cell_type": "code",
   "execution_count": 9,
   "metadata": {
    "execution": {
     "iopub.execute_input": "2024-08-06T18:23:42.197346Z",
     "iopub.status.busy": "2024-08-06T18:23:42.197013Z",
     "iopub.status.idle": "2024-08-06T18:23:46.779167Z",
     "shell.execute_reply": "2024-08-06T18:23:46.777968Z",
     "shell.execute_reply.started": "2024-08-06T18:23:42.197319Z"
    }
   },
   "outputs": [
    {
     "name": "stdout",
     "output_type": "stream",
     "text": [
      "classification report for LogisticRegression()\n",
      "              precision    recall  f1-score   support\n",
      "\n",
      "           0       0.99      0.98      0.99      1593\n",
      "           1       0.90      0.92      0.91       246\n",
      "\n",
      "    accuracy                           0.98      1839\n",
      "   macro avg       0.94      0.95      0.95      1839\n",
      "weighted avg       0.98      0.98      0.98      1839\n",
      "\n",
      "\n",
      "\n",
      "classification report for MultinomialNB()\n",
      "              precision    recall  f1-score   support\n",
      "\n",
      "           0       0.97      0.99      0.98      1559\n",
      "           1       0.94      0.84      0.89       280\n",
      "\n",
      "    accuracy                           0.97      1839\n",
      "   macro avg       0.95      0.92      0.93      1839\n",
      "weighted avg       0.97      0.97      0.97      1839\n",
      "\n",
      "\n",
      "\n",
      "classification report for SVC()\n",
      "              precision    recall  f1-score   support\n",
      "\n",
      "           0       1.00      0.98      0.99      1623\n",
      "           1       0.84      0.98      0.91       216\n",
      "\n",
      "    accuracy                           0.98      1839\n",
      "   macro avg       0.92      0.98      0.95      1839\n",
      "weighted avg       0.98      0.98      0.98      1839\n",
      "\n",
      "\n",
      "\n",
      "classification report for BernoulliNB()\n",
      "              precision    recall  f1-score   support\n",
      "\n",
      "           0       1.00      0.98      0.99      1624\n",
      "           1       0.85      1.00      0.92       215\n",
      "\n",
      "    accuracy                           0.98      1839\n",
      "   macro avg       0.93      0.99      0.95      1839\n",
      "weighted avg       0.98      0.98      0.98      1839\n",
      "\n",
      "\n",
      "\n",
      "classification report for KNeighborsClassifier()\n",
      "              precision    recall  f1-score   support\n",
      "\n",
      "           0       1.00      0.95      0.97      1670\n",
      "           1       0.65      0.98      0.78       169\n",
      "\n",
      "    accuracy                           0.95      1839\n",
      "   macro avg       0.83      0.96      0.88      1839\n",
      "weighted avg       0.97      0.95      0.95      1839\n",
      "\n",
      "\n",
      "\n",
      "classification report for DecisionTreeClassifier()\n",
      "              precision    recall  f1-score   support\n",
      "\n",
      "           0       0.97      0.97      0.97      1596\n",
      "           1       0.79      0.82      0.81       243\n",
      "\n",
      "    accuracy                           0.95      1839\n",
      "   macro avg       0.88      0.90      0.89      1839\n",
      "weighted avg       0.95      0.95      0.95      1839\n",
      "\n",
      "\n",
      "\n"
     ]
    }
   ],
   "source": [
    "algorithms =  [LogisticRegression(),MultinomialNB(),SVC(),BernoulliNB(),KNeighborsClassifier(),DecisionTreeClassifier()]\n",
    "\n",
    "for algorithm in algorithms:\n",
    "    model = algorithm\n",
    "    model.fit(X_train_resampled,y_train_resampled)\n",
    "    joblib.dump(model,'model_'+ f'{model}' + '.pkl')\n",
    "    \n",
    "    print(f'classification report for {str(algorithm)}')\n",
    "    print(classification_report(algorithm.predict(X_test),y_test))\n",
    "    print('\\n')"
   ]
  },
  {
   "cell_type": "markdown",
   "metadata": {},
   "source": [
    "### BEST PERFORMING MODEL\n",
    "\n",
    "#### BernoulliNB is the best performing since it has a better performance in terms of both recall and F1-score. "
   ]
  }
 ],
 "metadata": {
  "kaggle": {
   "accelerator": "none",
   "dataSources": [
    {
     "datasetId": 5499434,
     "sourceId": 9111560,
     "sourceType": "datasetVersion"
    }
   ],
   "dockerImageVersionId": 30746,
   "isGpuEnabled": false,
   "isInternetEnabled": true,
   "language": "python",
   "sourceType": "notebook"
  },
  "kernelspec": {
   "display_name": "Python 3 (ipykernel)",
   "language": "python",
   "name": "python3"
  },
  "language_info": {
   "codemirror_mode": {
    "name": "ipython",
    "version": 3
   },
   "file_extension": ".py",
   "mimetype": "text/x-python",
   "name": "python",
   "nbconvert_exporter": "python",
   "pygments_lexer": "ipython3",
   "version": "3.12.4"
  }
 },
 "nbformat": 4,
 "nbformat_minor": 4
}
